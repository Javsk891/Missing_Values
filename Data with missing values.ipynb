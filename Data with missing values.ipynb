{
 "cells": [
  {
   "cell_type": "code",
   "execution_count": 3,
   "id": "1aa55333",
   "metadata": {},
   "outputs": [
    {
     "name": "stdout",
     "output_type": "stream",
     "text": [
      "    0    1  2\n",
      "0  23  NaN  3\n",
      "1  12  NaN  9\n",
      "2   3  7.0  1\n"
     ]
    }
   ],
   "source": [
    "# Create simple data with missing values\n",
    "import numpy as np \n",
    "import pandas as pd\n",
    "df = pd.DataFrame([[23,np.nan,3],[12,np.nan,9],[3,7,1]])\n",
    "print(df)\n",
    "# We need to remove the NA values form the DataFrame"
   ]
  },
  {
   "cell_type": "code",
   "execution_count": 4,
   "id": "2a29a929",
   "metadata": {},
   "outputs": [
    {
     "name": "stdout",
     "output_type": "stream",
     "text": [
      "       0      1      2\n",
      "0  False   True  False\n",
      "1  False   True  False\n",
      "2  False  False  False\n"
     ]
    }
   ],
   "source": [
    "# Identificate wich ones are the missing values \n",
    "print(df.isnull())\n"
   ]
  },
  {
   "cell_type": "code",
   "execution_count": 5,
   "id": "21ea8af0",
   "metadata": {},
   "outputs": [
    {
     "name": "stdout",
     "output_type": "stream",
     "text": [
      "   0    1  2\n",
      "2  3  7.0  1\n"
     ]
    }
   ],
   "source": [
    "# Drop NA values, all cells containing NA values will dropping \n",
    "print(df.dropna())"
   ]
  },
  {
   "cell_type": "code",
   "execution_count": 6,
   "id": "dfdb309d",
   "metadata": {},
   "outputs": [
    {
     "name": "stdout",
     "output_type": "stream",
     "text": [
      "    0  2\n",
      "0  23  3\n",
      "1  12  9\n",
      "2   3  1\n"
     ]
    }
   ],
   "source": [
    "# Drop colums where cells have NAs\n",
    "print(df.dropna(axis=1))"
   ]
  },
  {
   "cell_type": "code",
   "execution_count": 8,
   "id": "81c9c72e",
   "metadata": {},
   "outputs": [
    {
     "name": "stdout",
     "output_type": "stream",
     "text": [
      "    0    1  2\n",
      "0  23  NaN  3\n",
      "1  12  NaN  9\n",
      "2   3  7.0  1\n",
      "    0    1  2\n",
      "0  23  NaN  3\n",
      "1  12  NaN  9\n",
      "2   3  7.0  1\n"
     ]
    }
   ],
   "source": [
    "print(df.dropna(axis=1,how=\"all\"))\n",
    "# Thresh parameter lets you specify a minimun number of NAs values for the row/column to be kept\n",
    "print(df.dropna(thresh=2))"
   ]
  },
  {
   "cell_type": "code",
   "execution_count": 11,
   "id": "1495a0d0",
   "metadata": {},
   "outputs": [
    {
     "name": "stdout",
     "output_type": "stream",
     "text": [
      "    0    1  2\n",
      "0  23  0.0  3\n",
      "1  12  0.0  9\n",
      "2   3  7.0  1\n"
     ]
    }
   ],
   "source": [
    "# Fill NAs entries with zero\n",
    "print(df.fillna(0))"
   ]
  },
  {
   "cell_type": "code",
   "execution_count": 12,
   "id": "ddabe0cd",
   "metadata": {},
   "outputs": [
    {
     "name": "stdout",
     "output_type": "stream",
     "text": [
      "    0    1  2\n",
      "0  23  NaN  3\n",
      "1  12  NaN  9\n",
      "2   3  7.0  1\n"
     ]
    }
   ],
   "source": [
    "# Specify a forward fill to propagate the previous value forward \n",
    "print(df.fillna(method=\"ffill\"))"
   ]
  },
  {
   "cell_type": "code",
   "execution_count": 13,
   "id": "d23a4e3c",
   "metadata": {},
   "outputs": [
    {
     "name": "stdout",
     "output_type": "stream",
     "text": [
      "      0     1    2\n",
      "0  23.0  23.0  3.0\n",
      "1  12.0  12.0  9.0\n",
      "2   3.0   7.0  1.0\n"
     ]
    }
   ],
   "source": [
    "# Fill forward colum wise\n",
    "print(df.fillna(method=\"ffill\",axis=1))"
   ]
  },
  {
   "cell_type": "code",
   "execution_count": null,
   "id": "46fa72be",
   "metadata": {},
   "outputs": [],
   "source": []
  }
 ],
 "metadata": {
  "kernelspec": {
   "display_name": "Python 3 (ipykernel)",
   "language": "python",
   "name": "python3"
  },
  "language_info": {
   "codemirror_mode": {
    "name": "ipython",
    "version": 3
   },
   "file_extension": ".py",
   "mimetype": "text/x-python",
   "name": "python",
   "nbconvert_exporter": "python",
   "pygments_lexer": "ipython3",
   "version": "3.9.7"
  }
 },
 "nbformat": 4,
 "nbformat_minor": 5
}
